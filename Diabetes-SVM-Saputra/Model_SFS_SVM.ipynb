{
 "cells": [
  {
   "cell_type": "markdown",
   "metadata": {},
   "source": [
    "IMPORT LIBRARY YANG DIBUTUHKAN"
   ]
  },
  {
   "cell_type": "code",
   "execution_count": 31,
   "metadata": {},
   "outputs": [
    {
     "name": "stdout",
     "output_type": "stream",
     "text": [
      "Done Importing\n"
     ]
    }
   ],
   "source": [
    "import pandas as pd\n",
    "import numpy as np\n",
    "import matplotlib.pyplot as plt\n",
    "from sklearn.svm import SVC\n",
    "from sklearn.preprocessing import StandardScaler\n",
    "from sklearn.feature_selection import SequentialFeatureSelector\n",
    "import seaborn as sns\n",
    "sns.set()\n",
    "print (\"Done Importing\")"
   ]
  },
  {
   "cell_type": "markdown",
   "metadata": {},
   "source": [
    "IMPORT DATA LATIH DAN DATA UJI"
   ]
  },
  {
   "cell_type": "code",
   "execution_count": 32,
   "metadata": {},
   "outputs": [],
   "source": [
    "train=pd.read_csv(\"train.csv\")\n",
    "test=pd.read_csv(\"test.csv\")"
   ]
  },
  {
   "cell_type": "markdown",
   "metadata": {},
   "source": [
    "MEMISAHKAN FITUR DAN TARGET"
   ]
  },
  {
   "cell_type": "code",
   "execution_count": 33,
   "metadata": {},
   "outputs": [],
   "source": [
    "X_train=train.drop('Outcome', axis=1)\n",
    "y_train=train['Outcome']\n",
    "\n",
    "X_test=test.drop('Outcome', axis=1)\n",
    "y_test=test['Outcome']"
   ]
  },
  {
   "cell_type": "markdown",
   "metadata": {},
   "source": [
    "SCALING DATA DENGAN STANDARD SCALER"
   ]
  },
  {
   "cell_type": "code",
   "execution_count": 34,
   "metadata": {},
   "outputs": [],
   "source": [
    "ss=StandardScaler()\n",
    "X_train=ss.fit_transform(X_train)\n",
    "X_test=ss.transform(X_test)"
   ]
  },
  {
   "cell_type": "markdown",
   "metadata": {},
   "source": [
    "MENGUBAH DATA ARRAY MENJADI DATAFRAME"
   ]
  },
  {
   "cell_type": "code",
   "execution_count": 35,
   "metadata": {},
   "outputs": [],
   "source": [
    "X_train = pd.DataFrame(X_train, columns=['Pregnancies', 'Glucose', 'BloodPressure', 'SkinThickness', 'Insulin', 'BMI', 'DiabetesPedigreeFunction', 'Age'])"
   ]
  },
  {
   "cell_type": "code",
   "execution_count": 36,
   "metadata": {},
   "outputs": [
    {
     "data": {
      "text/html": [
       "<div>\n",
       "<style scoped>\n",
       "    .dataframe tbody tr th:only-of-type {\n",
       "        vertical-align: middle;\n",
       "    }\n",
       "\n",
       "    .dataframe tbody tr th {\n",
       "        vertical-align: top;\n",
       "    }\n",
       "\n",
       "    .dataframe thead th {\n",
       "        text-align: right;\n",
       "    }\n",
       "</style>\n",
       "<table border=\"1\" class=\"dataframe\">\n",
       "  <thead>\n",
       "    <tr style=\"text-align: right;\">\n",
       "      <th></th>\n",
       "      <th>Pregnancies</th>\n",
       "      <th>Glucose</th>\n",
       "      <th>BloodPressure</th>\n",
       "      <th>SkinThickness</th>\n",
       "      <th>Insulin</th>\n",
       "      <th>BMI</th>\n",
       "      <th>DiabetesPedigreeFunction</th>\n",
       "      <th>Age</th>\n",
       "    </tr>\n",
       "  </thead>\n",
       "  <tbody>\n",
       "    <tr>\n",
       "      <th>0</th>\n",
       "      <td>-1.027183</td>\n",
       "      <td>1.863344</td>\n",
       "      <td>1.513592</td>\n",
       "      <td>-0.290029</td>\n",
       "      <td>-0.585300</td>\n",
       "      <td>0.466955</td>\n",
       "      <td>-0.603906</td>\n",
       "      <td>0.382185</td>\n",
       "    </tr>\n",
       "    <tr>\n",
       "      <th>1</th>\n",
       "      <td>-0.072208</td>\n",
       "      <td>-1.372628</td>\n",
       "      <td>1.199536</td>\n",
       "      <td>-1.223009</td>\n",
       "      <td>-0.788544</td>\n",
       "      <td>-0.815249</td>\n",
       "      <td>-0.627361</td>\n",
       "      <td>-0.859916</td>\n",
       "    </tr>\n",
       "    <tr>\n",
       "      <th>2</th>\n",
       "      <td>1.519417</td>\n",
       "      <td>0.098269</td>\n",
       "      <td>1.356564</td>\n",
       "      <td>0.642952</td>\n",
       "      <td>-0.432867</td>\n",
       "      <td>0.751890</td>\n",
       "      <td>-0.501291</td>\n",
       "      <td>1.719833</td>\n",
       "    </tr>\n",
       "    <tr>\n",
       "      <th>3</th>\n",
       "      <td>-0.390533</td>\n",
       "      <td>-0.882329</td>\n",
       "      <td>-0.213719</td>\n",
       "      <td>-1.502903</td>\n",
       "      <td>-0.932508</td>\n",
       "      <td>-1.727039</td>\n",
       "      <td>0.372402</td>\n",
       "      <td>-0.477731</td>\n",
       "    </tr>\n",
       "    <tr>\n",
       "      <th>4</th>\n",
       "      <td>-0.072208</td>\n",
       "      <td>-1.405314</td>\n",
       "      <td>0.885479</td>\n",
       "      <td>0.176461</td>\n",
       "      <td>-0.754670</td>\n",
       "      <td>0.139281</td>\n",
       "      <td>2.263448</td>\n",
       "      <td>-0.382185</td>\n",
       "    </tr>\n",
       "    <tr>\n",
       "      <th>...</th>\n",
       "      <td>...</td>\n",
       "      <td>...</td>\n",
       "      <td>...</td>\n",
       "      <td>...</td>\n",
       "      <td>...</td>\n",
       "      <td>...</td>\n",
       "      <td>...</td>\n",
       "      <td>...</td>\n",
       "    </tr>\n",
       "    <tr>\n",
       "      <th>308</th>\n",
       "      <td>-0.708858</td>\n",
       "      <td>0.425134</td>\n",
       "      <td>0.257366</td>\n",
       "      <td>1.949124</td>\n",
       "      <td>0.380108</td>\n",
       "      <td>0.595176</td>\n",
       "      <td>-0.354698</td>\n",
       "      <td>-0.668824</td>\n",
       "    </tr>\n",
       "    <tr>\n",
       "      <th>309</th>\n",
       "      <td>-1.027183</td>\n",
       "      <td>1.765284</td>\n",
       "      <td>-0.841832</td>\n",
       "      <td>-0.010135</td>\n",
       "      <td>2.700475</td>\n",
       "      <td>0.196268</td>\n",
       "      <td>1.618440</td>\n",
       "      <td>-0.955463</td>\n",
       "    </tr>\n",
       "    <tr>\n",
       "      <th>310</th>\n",
       "      <td>-1.027183</td>\n",
       "      <td>-0.195911</td>\n",
       "      <td>-0.370747</td>\n",
       "      <td>0.176461</td>\n",
       "      <td>0.244612</td>\n",
       "      <td>-0.345107</td>\n",
       "      <td>-0.079104</td>\n",
       "      <td>-0.859916</td>\n",
       "    </tr>\n",
       "    <tr>\n",
       "      <th>311</th>\n",
       "      <td>-0.072208</td>\n",
       "      <td>0.000209</td>\n",
       "      <td>2.298734</td>\n",
       "      <td>0.549654</td>\n",
       "      <td>0.684974</td>\n",
       "      <td>3.430272</td>\n",
       "      <td>1.055524</td>\n",
       "      <td>-0.859916</td>\n",
       "    </tr>\n",
       "    <tr>\n",
       "      <th>312</th>\n",
       "      <td>1.837742</td>\n",
       "      <td>-0.359344</td>\n",
       "      <td>0.885479</td>\n",
       "      <td>0.269760</td>\n",
       "      <td>0.134522</td>\n",
       "      <td>0.139281</td>\n",
       "      <td>-0.762226</td>\n",
       "      <td>0.477731</td>\n",
       "    </tr>\n",
       "  </tbody>\n",
       "</table>\n",
       "<p>313 rows × 8 columns</p>\n",
       "</div>"
      ],
      "text/plain": [
       "     Pregnancies   Glucose  BloodPressure  SkinThickness   Insulin       BMI  \\\n",
       "0      -1.027183  1.863344       1.513592      -0.290029 -0.585300  0.466955   \n",
       "1      -0.072208 -1.372628       1.199536      -1.223009 -0.788544 -0.815249   \n",
       "2       1.519417  0.098269       1.356564       0.642952 -0.432867  0.751890   \n",
       "3      -0.390533 -0.882329      -0.213719      -1.502903 -0.932508 -1.727039   \n",
       "4      -0.072208 -1.405314       0.885479       0.176461 -0.754670  0.139281   \n",
       "..           ...       ...            ...            ...       ...       ...   \n",
       "308    -0.708858  0.425134       0.257366       1.949124  0.380108  0.595176   \n",
       "309    -1.027183  1.765284      -0.841832      -0.010135  2.700475  0.196268   \n",
       "310    -1.027183 -0.195911      -0.370747       0.176461  0.244612 -0.345107   \n",
       "311    -0.072208  0.000209       2.298734       0.549654  0.684974  3.430272   \n",
       "312     1.837742 -0.359344       0.885479       0.269760  0.134522  0.139281   \n",
       "\n",
       "     DiabetesPedigreeFunction       Age  \n",
       "0                   -0.603906  0.382185  \n",
       "1                   -0.627361 -0.859916  \n",
       "2                   -0.501291  1.719833  \n",
       "3                    0.372402 -0.477731  \n",
       "4                    2.263448 -0.382185  \n",
       "..                        ...       ...  \n",
       "308                 -0.354698 -0.668824  \n",
       "309                  1.618440 -0.955463  \n",
       "310                 -0.079104 -0.859916  \n",
       "311                  1.055524 -0.859916  \n",
       "312                 -0.762226  0.477731  \n",
       "\n",
       "[313 rows x 8 columns]"
      ]
     },
     "execution_count": 36,
     "metadata": {},
     "output_type": "execute_result"
    }
   ],
   "source": [
    "X_train"
   ]
  },
  {
   "cell_type": "code",
   "execution_count": 37,
   "metadata": {},
   "outputs": [],
   "source": [
    "X_test = pd.DataFrame(X_test, columns=['Pregnancies', 'Glucose', 'BloodPressure', 'SkinThickness', 'Insulin', 'BMI', 'DiabetesPedigreeFunction', 'Age'])"
   ]
  },
  {
   "cell_type": "code",
   "execution_count": 38,
   "metadata": {},
   "outputs": [
    {
     "data": {
      "text/html": [
       "<div>\n",
       "<style scoped>\n",
       "    .dataframe tbody tr th:only-of-type {\n",
       "        vertical-align: middle;\n",
       "    }\n",
       "\n",
       "    .dataframe tbody tr th {\n",
       "        vertical-align: top;\n",
       "    }\n",
       "\n",
       "    .dataframe thead th {\n",
       "        text-align: right;\n",
       "    }\n",
       "</style>\n",
       "<table border=\"1\" class=\"dataframe\">\n",
       "  <thead>\n",
       "    <tr style=\"text-align: right;\">\n",
       "      <th></th>\n",
       "      <th>Pregnancies</th>\n",
       "      <th>Glucose</th>\n",
       "      <th>BloodPressure</th>\n",
       "      <th>SkinThickness</th>\n",
       "      <th>Insulin</th>\n",
       "      <th>BMI</th>\n",
       "      <th>DiabetesPedigreeFunction</th>\n",
       "      <th>Age</th>\n",
       "    </tr>\n",
       "  </thead>\n",
       "  <tbody>\n",
       "    <tr>\n",
       "      <th>0</th>\n",
       "      <td>1.201092</td>\n",
       "      <td>-0.686209</td>\n",
       "      <td>0.257366</td>\n",
       "      <td>1.016144</td>\n",
       "      <td>-0.458273</td>\n",
       "      <td>0.566682</td>\n",
       "      <td>-0.926410</td>\n",
       "      <td>1.337648</td>\n",
       "    </tr>\n",
       "    <tr>\n",
       "      <th>1</th>\n",
       "      <td>-1.027183</td>\n",
       "      <td>0.130955</td>\n",
       "      <td>0.728451</td>\n",
       "      <td>0.736250</td>\n",
       "      <td>0.430919</td>\n",
       "      <td>0.438462</td>\n",
       "      <td>0.832703</td>\n",
       "      <td>-0.764370</td>\n",
       "    </tr>\n",
       "    <tr>\n",
       "      <th>2</th>\n",
       "      <td>0.246117</td>\n",
       "      <td>-1.241881</td>\n",
       "      <td>-0.998861</td>\n",
       "      <td>-0.663221</td>\n",
       "      <td>-0.932508</td>\n",
       "      <td>-0.772509</td>\n",
       "      <td>-0.627361</td>\n",
       "      <td>-0.286639</td>\n",
       "    </tr>\n",
       "    <tr>\n",
       "      <th>3</th>\n",
       "      <td>-1.027183</td>\n",
       "      <td>1.274986</td>\n",
       "      <td>0.414394</td>\n",
       "      <td>2.508913</td>\n",
       "      <td>-0.500615</td>\n",
       "      <td>2.846157</td>\n",
       "      <td>0.700770</td>\n",
       "      <td>-0.573278</td>\n",
       "    </tr>\n",
       "    <tr>\n",
       "      <th>4</th>\n",
       "      <td>-1.027183</td>\n",
       "      <td>1.896031</td>\n",
       "      <td>1.356564</td>\n",
       "      <td>1.389336</td>\n",
       "      <td>2.971467</td>\n",
       "      <td>1.435732</td>\n",
       "      <td>-0.873637</td>\n",
       "      <td>-0.477731</td>\n",
       "    </tr>\n",
       "    <tr>\n",
       "      <th>...</th>\n",
       "      <td>...</td>\n",
       "      <td>...</td>\n",
       "      <td>...</td>\n",
       "      <td>...</td>\n",
       "      <td>...</td>\n",
       "      <td>...</td>\n",
       "      <td>...</td>\n",
       "      <td>...</td>\n",
       "    </tr>\n",
       "    <tr>\n",
       "      <th>74</th>\n",
       "      <td>0.246117</td>\n",
       "      <td>-0.424717</td>\n",
       "      <td>0.414394</td>\n",
       "      <td>-0.849817</td>\n",
       "      <td>-0.500615</td>\n",
       "      <td>-0.687028</td>\n",
       "      <td>-1.178550</td>\n",
       "      <td>-0.382185</td>\n",
       "    </tr>\n",
       "    <tr>\n",
       "      <th>75</th>\n",
       "      <td>0.882767</td>\n",
       "      <td>0.359761</td>\n",
       "      <td>-0.056691</td>\n",
       "      <td>-0.569923</td>\n",
       "      <td>-0.246560</td>\n",
       "      <td>0.310242</td>\n",
       "      <td>0.064557</td>\n",
       "      <td>-0.191093</td>\n",
       "    </tr>\n",
       "    <tr>\n",
       "      <th>76</th>\n",
       "      <td>-0.072208</td>\n",
       "      <td>-1.601434</td>\n",
       "      <td>-0.213719</td>\n",
       "      <td>-0.103433</td>\n",
       "      <td>-0.966382</td>\n",
       "      <td>-0.501821</td>\n",
       "      <td>-0.665475</td>\n",
       "      <td>-0.764370</td>\n",
       "    </tr>\n",
       "    <tr>\n",
       "      <th>77</th>\n",
       "      <td>-0.390533</td>\n",
       "      <td>2.419016</td>\n",
       "      <td>-0.056691</td>\n",
       "      <td>1.482634</td>\n",
       "      <td>3.250927</td>\n",
       "      <td>-0.387847</td>\n",
       "      <td>-1.061275</td>\n",
       "      <td>2.102018</td>\n",
       "    </tr>\n",
       "    <tr>\n",
       "      <th>78</th>\n",
       "      <td>-0.072208</td>\n",
       "      <td>1.863344</td>\n",
       "      <td>-0.527776</td>\n",
       "      <td>-0.383327</td>\n",
       "      <td>-0.754670</td>\n",
       "      <td>0.110788</td>\n",
       "      <td>-0.729976</td>\n",
       "      <td>-0.477731</td>\n",
       "    </tr>\n",
       "  </tbody>\n",
       "</table>\n",
       "<p>79 rows × 8 columns</p>\n",
       "</div>"
      ],
      "text/plain": [
       "    Pregnancies   Glucose  BloodPressure  SkinThickness   Insulin       BMI  \\\n",
       "0      1.201092 -0.686209       0.257366       1.016144 -0.458273  0.566682   \n",
       "1     -1.027183  0.130955       0.728451       0.736250  0.430919  0.438462   \n",
       "2      0.246117 -1.241881      -0.998861      -0.663221 -0.932508 -0.772509   \n",
       "3     -1.027183  1.274986       0.414394       2.508913 -0.500615  2.846157   \n",
       "4     -1.027183  1.896031       1.356564       1.389336  2.971467  1.435732   \n",
       "..          ...       ...            ...            ...       ...       ...   \n",
       "74     0.246117 -0.424717       0.414394      -0.849817 -0.500615 -0.687028   \n",
       "75     0.882767  0.359761      -0.056691      -0.569923 -0.246560  0.310242   \n",
       "76    -0.072208 -1.601434      -0.213719      -0.103433 -0.966382 -0.501821   \n",
       "77    -0.390533  2.419016      -0.056691       1.482634  3.250927 -0.387847   \n",
       "78    -0.072208  1.863344      -0.527776      -0.383327 -0.754670  0.110788   \n",
       "\n",
       "    DiabetesPedigreeFunction       Age  \n",
       "0                  -0.926410  1.337648  \n",
       "1                   0.832703 -0.764370  \n",
       "2                  -0.627361 -0.286639  \n",
       "3                   0.700770 -0.573278  \n",
       "4                  -0.873637 -0.477731  \n",
       "..                       ...       ...  \n",
       "74                 -1.178550 -0.382185  \n",
       "75                  0.064557 -0.191093  \n",
       "76                 -0.665475 -0.764370  \n",
       "77                 -1.061275  2.102018  \n",
       "78                 -0.729976 -0.477731  \n",
       "\n",
       "[79 rows x 8 columns]"
      ]
     },
     "execution_count": 38,
     "metadata": {},
     "output_type": "execute_result"
    }
   ],
   "source": [
    "X_test"
   ]
  },
  {
   "cell_type": "markdown",
   "metadata": {},
   "source": [
    "MENGUBAH TARGET DENGAN NILAI 0 MENJADI -1 (KEPERLUAN ALGORITMA SVM MANUAL YANG DIGUNAKAN)"
   ]
  },
  {
   "cell_type": "code",
   "execution_count": 39,
   "metadata": {},
   "outputs": [],
   "source": [
    "y_train=y_train.replace(0,-1)\n",
    "y_test=y_test.replace(0,-1)"
   ]
  },
  {
   "cell_type": "code",
   "execution_count": 40,
   "metadata": {},
   "outputs": [
    {
     "data": {
      "text/plain": [
       "0      1\n",
       "1     -1\n",
       "2     -1\n",
       "3     -1\n",
       "4      1\n",
       "      ..\n",
       "308   -1\n",
       "309    1\n",
       "310   -1\n",
       "311   -1\n",
       "312    1\n",
       "Name: Outcome, Length: 313, dtype: int64"
      ]
     },
     "execution_count": 40,
     "metadata": {},
     "output_type": "execute_result"
    }
   ],
   "source": [
    "y_train"
   ]
  },
  {
   "cell_type": "markdown",
   "metadata": {},
   "source": [
    "ESTIMATOR SFS MENGGUNAKAN SVC DARI SCIKIT LEARN"
   ]
  },
  {
   "cell_type": "code",
   "execution_count": 41,
   "metadata": {},
   "outputs": [],
   "source": [
    "clf=SVC(kernel='linear')"
   ]
  },
  {
   "cell_type": "markdown",
   "metadata": {},
   "source": [
    "MENENTUKAN JUMLAH FITUR AKHIR YANG DIHASILKAN OLEH SFS"
   ]
  },
  {
   "cell_type": "code",
   "execution_count": 42,
   "metadata": {},
   "outputs": [],
   "source": [
    "sfs = SequentialFeatureSelector(clf, n_features_to_select=2)"
   ]
  },
  {
   "cell_type": "markdown",
   "metadata": {},
   "source": [
    "PROSES SFS"
   ]
  },
  {
   "cell_type": "code",
   "execution_count": 43,
   "metadata": {},
   "outputs": [
    {
     "data": {
      "text/html": [
       "<style>#sk-container-id-2 {color: black;}#sk-container-id-2 pre{padding: 0;}#sk-container-id-2 div.sk-toggleable {background-color: white;}#sk-container-id-2 label.sk-toggleable__label {cursor: pointer;display: block;width: 100%;margin-bottom: 0;padding: 0.3em;box-sizing: border-box;text-align: center;}#sk-container-id-2 label.sk-toggleable__label-arrow:before {content: \"▸\";float: left;margin-right: 0.25em;color: #696969;}#sk-container-id-2 label.sk-toggleable__label-arrow:hover:before {color: black;}#sk-container-id-2 div.sk-estimator:hover label.sk-toggleable__label-arrow:before {color: black;}#sk-container-id-2 div.sk-toggleable__content {max-height: 0;max-width: 0;overflow: hidden;text-align: left;background-color: #f0f8ff;}#sk-container-id-2 div.sk-toggleable__content pre {margin: 0.2em;color: black;border-radius: 0.25em;background-color: #f0f8ff;}#sk-container-id-2 input.sk-toggleable__control:checked~div.sk-toggleable__content {max-height: 200px;max-width: 100%;overflow: auto;}#sk-container-id-2 input.sk-toggleable__control:checked~label.sk-toggleable__label-arrow:before {content: \"▾\";}#sk-container-id-2 div.sk-estimator input.sk-toggleable__control:checked~label.sk-toggleable__label {background-color: #d4ebff;}#sk-container-id-2 div.sk-label input.sk-toggleable__control:checked~label.sk-toggleable__label {background-color: #d4ebff;}#sk-container-id-2 input.sk-hidden--visually {border: 0;clip: rect(1px 1px 1px 1px);clip: rect(1px, 1px, 1px, 1px);height: 1px;margin: -1px;overflow: hidden;padding: 0;position: absolute;width: 1px;}#sk-container-id-2 div.sk-estimator {font-family: monospace;background-color: #f0f8ff;border: 1px dotted black;border-radius: 0.25em;box-sizing: border-box;margin-bottom: 0.5em;}#sk-container-id-2 div.sk-estimator:hover {background-color: #d4ebff;}#sk-container-id-2 div.sk-parallel-item::after {content: \"\";width: 100%;border-bottom: 1px solid gray;flex-grow: 1;}#sk-container-id-2 div.sk-label:hover label.sk-toggleable__label {background-color: #d4ebff;}#sk-container-id-2 div.sk-serial::before {content: \"\";position: absolute;border-left: 1px solid gray;box-sizing: border-box;top: 0;bottom: 0;left: 50%;z-index: 0;}#sk-container-id-2 div.sk-serial {display: flex;flex-direction: column;align-items: center;background-color: white;padding-right: 0.2em;padding-left: 0.2em;position: relative;}#sk-container-id-2 div.sk-item {position: relative;z-index: 1;}#sk-container-id-2 div.sk-parallel {display: flex;align-items: stretch;justify-content: center;background-color: white;position: relative;}#sk-container-id-2 div.sk-item::before, #sk-container-id-2 div.sk-parallel-item::before {content: \"\";position: absolute;border-left: 1px solid gray;box-sizing: border-box;top: 0;bottom: 0;left: 50%;z-index: -1;}#sk-container-id-2 div.sk-parallel-item {display: flex;flex-direction: column;z-index: 1;position: relative;background-color: white;}#sk-container-id-2 div.sk-parallel-item:first-child::after {align-self: flex-end;width: 50%;}#sk-container-id-2 div.sk-parallel-item:last-child::after {align-self: flex-start;width: 50%;}#sk-container-id-2 div.sk-parallel-item:only-child::after {width: 0;}#sk-container-id-2 div.sk-dashed-wrapped {border: 1px dashed gray;margin: 0 0.4em 0.5em 0.4em;box-sizing: border-box;padding-bottom: 0.4em;background-color: white;}#sk-container-id-2 div.sk-label label {font-family: monospace;font-weight: bold;display: inline-block;line-height: 1.2em;}#sk-container-id-2 div.sk-label-container {text-align: center;}#sk-container-id-2 div.sk-container {/* jupyter's `normalize.less` sets `[hidden] { display: none; }` but bootstrap.min.css set `[hidden] { display: none !important; }` so we also need the `!important` here to be able to override the default hidden behavior on the sphinx rendered scikit-learn.org. See: https://github.com/scikit-learn/scikit-learn/issues/21755 */display: inline-block !important;position: relative;}#sk-container-id-2 div.sk-text-repr-fallback {display: none;}</style><div id=\"sk-container-id-2\" class=\"sk-top-container\"><div class=\"sk-text-repr-fallback\"><pre>SequentialFeatureSelector(estimator=SVC(kernel=&#x27;linear&#x27;),\n",
       "                          n_features_to_select=2)</pre><b>In a Jupyter environment, please rerun this cell to show the HTML representation or trust the notebook. <br />On GitHub, the HTML representation is unable to render, please try loading this page with nbviewer.org.</b></div><div class=\"sk-container\" hidden><div class=\"sk-item sk-dashed-wrapped\"><div class=\"sk-label-container\"><div class=\"sk-label sk-toggleable\"><input class=\"sk-toggleable__control sk-hidden--visually\" id=\"sk-estimator-id-4\" type=\"checkbox\" ><label for=\"sk-estimator-id-4\" class=\"sk-toggleable__label sk-toggleable__label-arrow\">SequentialFeatureSelector</label><div class=\"sk-toggleable__content\"><pre>SequentialFeatureSelector(estimator=SVC(kernel=&#x27;linear&#x27;),\n",
       "                          n_features_to_select=2)</pre></div></div></div><div class=\"sk-parallel\"><div class=\"sk-parallel-item\"><div class=\"sk-item\"><div class=\"sk-label-container\"><div class=\"sk-label sk-toggleable\"><input class=\"sk-toggleable__control sk-hidden--visually\" id=\"sk-estimator-id-5\" type=\"checkbox\" ><label for=\"sk-estimator-id-5\" class=\"sk-toggleable__label sk-toggleable__label-arrow\">estimator: SVC</label><div class=\"sk-toggleable__content\"><pre>SVC(kernel=&#x27;linear&#x27;)</pre></div></div></div><div class=\"sk-serial\"><div class=\"sk-item\"><div class=\"sk-estimator sk-toggleable\"><input class=\"sk-toggleable__control sk-hidden--visually\" id=\"sk-estimator-id-6\" type=\"checkbox\" ><label for=\"sk-estimator-id-6\" class=\"sk-toggleable__label sk-toggleable__label-arrow\">SVC</label><div class=\"sk-toggleable__content\"><pre>SVC(kernel=&#x27;linear&#x27;)</pre></div></div></div></div></div></div></div></div></div></div>"
      ],
      "text/plain": [
       "SequentialFeatureSelector(estimator=SVC(kernel='linear'),\n",
       "                          n_features_to_select=2)"
      ]
     },
     "execution_count": 43,
     "metadata": {},
     "output_type": "execute_result"
    }
   ],
   "source": [
    "sfs.fit(X_train, y_train)"
   ]
  },
  {
   "cell_type": "markdown",
   "metadata": {},
   "source": [
    "MELIHAT FITUR YANG DIPILIH, TRUE ADALAH FITUR YANG DIPILIH, FALSE ADALAH FITUR YANG DIHAPUS"
   ]
  },
  {
   "cell_type": "code",
   "execution_count": 44,
   "metadata": {},
   "outputs": [
    {
     "data": {
      "text/plain": [
       "array([False,  True, False, False, False, False, False,  True])"
      ]
     },
     "execution_count": 44,
     "metadata": {},
     "output_type": "execute_result"
    }
   ],
   "source": [
    "sfs.get_support()"
   ]
  },
  {
   "cell_type": "markdown",
   "metadata": {},
   "source": [
    "TRANSFORM DATA LATIH DAN DATA UJI"
   ]
  },
  {
   "cell_type": "code",
   "execution_count": 45,
   "metadata": {},
   "outputs": [],
   "source": [
    "X_train=sfs.transform(X_train)"
   ]
  },
  {
   "cell_type": "code",
   "execution_count": 46,
   "metadata": {},
   "outputs": [],
   "source": [
    "X_test=sfs.transform(X_test)"
   ]
  },
  {
   "cell_type": "markdown",
   "metadata": {},
   "source": [
    "MENGUBAH ARRAY MENJADI DATAFRAME"
   ]
  },
  {
   "cell_type": "code",
   "execution_count": 47,
   "metadata": {},
   "outputs": [],
   "source": [
    "X_testdf = pd.DataFrame(X_test, columns=['Glucose','Age'])"
   ]
  },
  {
   "cell_type": "code",
   "execution_count": 48,
   "metadata": {},
   "outputs": [],
   "source": [
    "X_traindf = pd.DataFrame(X_train, columns=['Glucose','Age'])"
   ]
  },
  {
   "cell_type": "code",
   "execution_count": 49,
   "metadata": {},
   "outputs": [
    {
     "data": {
      "text/html": [
       "<div>\n",
       "<style scoped>\n",
       "    .dataframe tbody tr th:only-of-type {\n",
       "        vertical-align: middle;\n",
       "    }\n",
       "\n",
       "    .dataframe tbody tr th {\n",
       "        vertical-align: top;\n",
       "    }\n",
       "\n",
       "    .dataframe thead th {\n",
       "        text-align: right;\n",
       "    }\n",
       "</style>\n",
       "<table border=\"1\" class=\"dataframe\">\n",
       "  <thead>\n",
       "    <tr style=\"text-align: right;\">\n",
       "      <th></th>\n",
       "      <th>Glucose</th>\n",
       "      <th>Age</th>\n",
       "    </tr>\n",
       "  </thead>\n",
       "  <tbody>\n",
       "    <tr>\n",
       "      <th>0</th>\n",
       "      <td>1.863344</td>\n",
       "      <td>0.382185</td>\n",
       "    </tr>\n",
       "    <tr>\n",
       "      <th>1</th>\n",
       "      <td>-1.372628</td>\n",
       "      <td>-0.859916</td>\n",
       "    </tr>\n",
       "    <tr>\n",
       "      <th>2</th>\n",
       "      <td>0.098269</td>\n",
       "      <td>1.719833</td>\n",
       "    </tr>\n",
       "    <tr>\n",
       "      <th>3</th>\n",
       "      <td>-0.882329</td>\n",
       "      <td>-0.477731</td>\n",
       "    </tr>\n",
       "    <tr>\n",
       "      <th>4</th>\n",
       "      <td>-1.405314</td>\n",
       "      <td>-0.382185</td>\n",
       "    </tr>\n",
       "    <tr>\n",
       "      <th>...</th>\n",
       "      <td>...</td>\n",
       "      <td>...</td>\n",
       "    </tr>\n",
       "    <tr>\n",
       "      <th>308</th>\n",
       "      <td>0.425134</td>\n",
       "      <td>-0.668824</td>\n",
       "    </tr>\n",
       "    <tr>\n",
       "      <th>309</th>\n",
       "      <td>1.765284</td>\n",
       "      <td>-0.955463</td>\n",
       "    </tr>\n",
       "    <tr>\n",
       "      <th>310</th>\n",
       "      <td>-0.195911</td>\n",
       "      <td>-0.859916</td>\n",
       "    </tr>\n",
       "    <tr>\n",
       "      <th>311</th>\n",
       "      <td>0.000209</td>\n",
       "      <td>-0.859916</td>\n",
       "    </tr>\n",
       "    <tr>\n",
       "      <th>312</th>\n",
       "      <td>-0.359344</td>\n",
       "      <td>0.477731</td>\n",
       "    </tr>\n",
       "  </tbody>\n",
       "</table>\n",
       "<p>313 rows × 2 columns</p>\n",
       "</div>"
      ],
      "text/plain": [
       "      Glucose       Age\n",
       "0    1.863344  0.382185\n",
       "1   -1.372628 -0.859916\n",
       "2    0.098269  1.719833\n",
       "3   -0.882329 -0.477731\n",
       "4   -1.405314 -0.382185\n",
       "..        ...       ...\n",
       "308  0.425134 -0.668824\n",
       "309  1.765284 -0.955463\n",
       "310 -0.195911 -0.859916\n",
       "311  0.000209 -0.859916\n",
       "312 -0.359344  0.477731\n",
       "\n",
       "[313 rows x 2 columns]"
      ]
     },
     "execution_count": 49,
     "metadata": {},
     "output_type": "execute_result"
    }
   ],
   "source": [
    "X_traindf"
   ]
  },
  {
   "cell_type": "code",
   "execution_count": 50,
   "metadata": {},
   "outputs": [
    {
     "data": {
      "text/html": [
       "<div>\n",
       "<style scoped>\n",
       "    .dataframe tbody tr th:only-of-type {\n",
       "        vertical-align: middle;\n",
       "    }\n",
       "\n",
       "    .dataframe tbody tr th {\n",
       "        vertical-align: top;\n",
       "    }\n",
       "\n",
       "    .dataframe thead th {\n",
       "        text-align: right;\n",
       "    }\n",
       "</style>\n",
       "<table border=\"1\" class=\"dataframe\">\n",
       "  <thead>\n",
       "    <tr style=\"text-align: right;\">\n",
       "      <th></th>\n",
       "      <th>Glucose</th>\n",
       "      <th>Age</th>\n",
       "    </tr>\n",
       "  </thead>\n",
       "  <tbody>\n",
       "    <tr>\n",
       "      <th>0</th>\n",
       "      <td>-0.686209</td>\n",
       "      <td>1.337648</td>\n",
       "    </tr>\n",
       "    <tr>\n",
       "      <th>1</th>\n",
       "      <td>0.130955</td>\n",
       "      <td>-0.764370</td>\n",
       "    </tr>\n",
       "    <tr>\n",
       "      <th>2</th>\n",
       "      <td>-1.241881</td>\n",
       "      <td>-0.286639</td>\n",
       "    </tr>\n",
       "    <tr>\n",
       "      <th>3</th>\n",
       "      <td>1.274986</td>\n",
       "      <td>-0.573278</td>\n",
       "    </tr>\n",
       "    <tr>\n",
       "      <th>4</th>\n",
       "      <td>1.896031</td>\n",
       "      <td>-0.477731</td>\n",
       "    </tr>\n",
       "    <tr>\n",
       "      <th>...</th>\n",
       "      <td>...</td>\n",
       "      <td>...</td>\n",
       "    </tr>\n",
       "    <tr>\n",
       "      <th>74</th>\n",
       "      <td>-0.424717</td>\n",
       "      <td>-0.382185</td>\n",
       "    </tr>\n",
       "    <tr>\n",
       "      <th>75</th>\n",
       "      <td>0.359761</td>\n",
       "      <td>-0.191093</td>\n",
       "    </tr>\n",
       "    <tr>\n",
       "      <th>76</th>\n",
       "      <td>-1.601434</td>\n",
       "      <td>-0.764370</td>\n",
       "    </tr>\n",
       "    <tr>\n",
       "      <th>77</th>\n",
       "      <td>2.419016</td>\n",
       "      <td>2.102018</td>\n",
       "    </tr>\n",
       "    <tr>\n",
       "      <th>78</th>\n",
       "      <td>1.863344</td>\n",
       "      <td>-0.477731</td>\n",
       "    </tr>\n",
       "  </tbody>\n",
       "</table>\n",
       "<p>79 rows × 2 columns</p>\n",
       "</div>"
      ],
      "text/plain": [
       "     Glucose       Age\n",
       "0  -0.686209  1.337648\n",
       "1   0.130955 -0.764370\n",
       "2  -1.241881 -0.286639\n",
       "3   1.274986 -0.573278\n",
       "4   1.896031 -0.477731\n",
       "..       ...       ...\n",
       "74 -0.424717 -0.382185\n",
       "75  0.359761 -0.191093\n",
       "76 -1.601434 -0.764370\n",
       "77  2.419016  2.102018\n",
       "78  1.863344 -0.477731\n",
       "\n",
       "[79 rows x 2 columns]"
      ]
     },
     "execution_count": 50,
     "metadata": {},
     "output_type": "execute_result"
    }
   ],
   "source": [
    "X_testdf"
   ]
  },
  {
   "cell_type": "markdown",
   "metadata": {},
   "source": [
    "PROSES PELATIHAN SVM"
   ]
  },
  {
   "cell_type": "code",
   "execution_count": 51,
   "metadata": {},
   "outputs": [],
   "source": [
    "lr = 0.001\n",
    "lambda_param = 0.01\n",
    "n_iters = 1000"
   ]
  },
  {
   "cell_type": "code",
   "execution_count": 52,
   "metadata": {},
   "outputs": [
    {
     "name": "stdout",
     "output_type": "stream",
     "text": [
      "313\n",
      "2\n",
      "[ 1 -1 -1 -1  1 -1 -1 -1 -1  1 -1  1 -1 -1 -1 -1 -1 -1  1 -1 -1 -1 -1 -1\n",
      "  1 -1 -1  1 -1 -1 -1 -1 -1  1 -1  1 -1  1  1 -1  1 -1 -1 -1  1 -1 -1 -1\n",
      " -1  1 -1  1 -1 -1 -1 -1 -1 -1  1 -1 -1  1  1 -1 -1 -1  1 -1  1 -1 -1  1\n",
      " -1  1 -1  1  1 -1  1  1 -1  1 -1  1 -1 -1 -1 -1  1 -1 -1 -1 -1 -1  1  1\n",
      "  1  1 -1 -1 -1 -1 -1 -1 -1  1  1  1 -1 -1  1 -1 -1 -1  1 -1  1 -1  1 -1\n",
      " -1  1 -1 -1 -1  1  1 -1 -1  1 -1 -1 -1  1  1  1  1  1 -1 -1  1 -1  1  1\n",
      "  1 -1 -1 -1 -1 -1 -1 -1 -1 -1  1 -1 -1  1 -1 -1 -1 -1 -1 -1 -1  1 -1  1\n",
      " -1 -1 -1  1  1 -1 -1 -1 -1 -1 -1 -1  1 -1 -1 -1  1  1 -1 -1 -1  1 -1 -1\n",
      "  1  1  1  1 -1 -1 -1 -1 -1 -1 -1 -1 -1  1 -1 -1 -1 -1 -1 -1 -1 -1 -1  1\n",
      " -1 -1 -1  1 -1 -1  1 -1 -1  1 -1 -1  1  1  1 -1 -1 -1 -1  1  1  1 -1 -1\n",
      "  1 -1 -1 -1  1 -1  1 -1  1 -1 -1  1  1  1  1 -1 -1  1  1 -1  1 -1 -1  1\n",
      "  1 -1 -1 -1  1 -1  1  1 -1 -1 -1  1 -1 -1 -1 -1  1 -1 -1 -1 -1  1 -1 -1\n",
      " -1  1 -1 -1 -1 -1 -1 -1 -1 -1 -1  1 -1 -1  1 -1 -1 -1 -1  1 -1  1 -1 -1\n",
      "  1]\n"
     ]
    }
   ],
   "source": [
    "n_samples, n_features = X_train.shape\n",
    "y_ = np.where(y_train <= 0, -1, 1)\n",
    "print(n_samples)\n",
    "print(n_features)\n",
    "print(y_)"
   ]
  },
  {
   "cell_type": "code",
   "execution_count": 53,
   "metadata": {},
   "outputs": [
    {
     "name": "stdout",
     "output_type": "stream",
     "text": [
      "[0. 0.]\n",
      "0\n"
     ]
    }
   ],
   "source": [
    "w = np.zeros(n_features)\n",
    "b = 0\n",
    "print(w)\n",
    "print(b)"
   ]
  },
  {
   "cell_type": "code",
   "execution_count": 54,
   "metadata": {},
   "outputs": [],
   "source": [
    "for _ in range(n_iters):\n",
    "            for idx, x_i in enumerate(X_train):\n",
    "                condition = y_[idx] * (np.dot(x_i, w) - b) >= 1\n",
    "                if condition:\n",
    "                    w -= lr * (2 * lambda_param * w)\n",
    "                else:\n",
    "                    w -= lr * (2 * lambda_param * w - np.dot(x_i, y_[idx]))\n",
    "                    b -= lr * y_[idx]"
   ]
  },
  {
   "cell_type": "code",
   "execution_count": 55,
   "metadata": {},
   "outputs": [
    {
     "name": "stdout",
     "output_type": "stream",
     "text": [
      "[0.93693972 0.41374833]\n"
     ]
    }
   ],
   "source": [
    "print(w)"
   ]
  },
  {
   "cell_type": "code",
   "execution_count": 56,
   "metadata": {},
   "outputs": [
    {
     "name": "stdout",
     "output_type": "stream",
     "text": [
      "0.6450000000000005\n"
     ]
    }
   ],
   "source": [
    "print(b)"
   ]
  },
  {
   "cell_type": "markdown",
   "metadata": {},
   "source": [
    "PROSES PENGUJIAN SVM"
   ]
  },
  {
   "cell_type": "code",
   "execution_count": 57,
   "metadata": {},
   "outputs": [
    {
     "data": {
      "text/plain": [
       "array([-1., -1., -1.,  1.,  1., -1., -1., -1.,  1., -1., -1., -1., -1.,\n",
       "       -1., -1., -1.,  1., -1.,  1.,  1., -1., -1.,  1., -1., -1., -1.,\n",
       "        1., -1., -1., -1.,  1.,  1., -1., -1., -1., -1., -1., -1., -1.,\n",
       "        1.,  1., -1., -1., -1., -1.,  1., -1.,  1., -1., -1., -1., -1.,\n",
       "       -1., -1., -1., -1., -1., -1., -1., -1., -1., -1., -1., -1., -1.,\n",
       "       -1., -1., -1., -1.,  1., -1., -1., -1.,  1., -1., -1., -1.,  1.,\n",
       "        1.])"
      ]
     },
     "execution_count": 57,
     "metadata": {},
     "output_type": "execute_result"
    }
   ],
   "source": [
    "approx = np.dot(X_test, w) - b\n",
    "np.sign(approx)"
   ]
  },
  {
   "cell_type": "code",
   "execution_count": 58,
   "metadata": {},
   "outputs": [],
   "source": [
    "y_pred = np.sign(approx)"
   ]
  },
  {
   "cell_type": "markdown",
   "metadata": {},
   "source": [
    "MELIHAT HASIL MELALUI CONFUSION MATRIX"
   ]
  },
  {
   "cell_type": "code",
   "execution_count": 59,
   "metadata": {},
   "outputs": [
    {
     "data": {
      "text/plain": [
       "Text(0.5, 20.049999999999997, 'Predicted label')"
      ]
     },
     "execution_count": 59,
     "metadata": {},
     "output_type": "execute_result"
    },
    {
     "data": {
      "image/png": "[encoded data removed]",
      "text/plain": [
       "<Figure size 640x480 with 2 Axes>"
      ]
     },
     "metadata": {},
     "output_type": "display_data"
    }
   ],
   "source": [
    "from sklearn import metrics\n",
    "cnf_matrix = metrics.confusion_matrix(y_test, y_pred)\n",
    "tp=cnf_matrix[0,0]\n",
    "tn=cnf_matrix[1,1]\n",
    "fp=cnf_matrix[0,1]\n",
    "fn=cnf_matrix[1,0]\n",
    "p = sns.heatmap(pd.DataFrame(cnf_matrix), annot=True, cmap=\"YlGnBu\" ,fmt='g')\n",
    "plt.title('Confusion matrix', y=1.1)\n",
    "plt.ylabel('Actual label')\n",
    "plt.xlabel('Predicted label')"
   ]
  },
  {
   "cell_type": "markdown",
   "metadata": {},
   "source": [
    "MENGHITUNG METRIKS EVALUASI"
   ]
  },
  {
   "cell_type": "code",
   "execution_count": 60,
   "metadata": {},
   "outputs": [],
   "source": [
    "akurasi= ((tp+tn)/(tp+tn+fp+fn)) * 100\n",
    "presisi= (tp/(fp+tp)) * 100\n",
    "recall= (tp/(tp+fn)) * 100\n",
    "specificity= (tn/(tn+fp)) * 100\n",
    "f1score= ((2*presisi*recall)/(presisi+recall))"
   ]
  },
  {
   "cell_type": "code",
   "execution_count": 61,
   "metadata": {},
   "outputs": [
    {
     "name": "stdout",
     "output_type": "stream",
     "text": [
      "Akurasi: 75.95%\n",
      "Presisi: 90.38%\n",
      "Recall: 77.05%\n",
      "Specificity: 72.22%\n",
      "F1-Score: 83.19%\n"
     ]
    }
   ],
   "source": [
    "print(f'Akurasi: {akurasi:.2f}%')\n",
    "print(f'Presisi: {presisi:.2f}%')\n",
    "print(f'Recall: {recall:.2f}%')\n",
    "print(f'Specificity: {specificity:.2f}%')\n",
    "print(f'F1-Score: {f1score:.2f}%')"
   ]
  }
 ],
 "metadata": {
  "kernelspec": {
   "display_name": "Python 3",
   "language": "python",
   "name": "python3"
  },
  "language_info": {
   "codemirror_mode": {
    "name": "ipython",
    "version": 3
   },
   "file_extension": ".py",
   "mimetype": "text/x-python",
   "name": "python",
   "nbconvert_exporter": "python",
   "pygments_lexer": "ipython3",
   "version": "3.11.4"
  },
  "orig_nbformat": 4
 },
 "nbformat": 4,
 "nbformat_minor": 2
}
